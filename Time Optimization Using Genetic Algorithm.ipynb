{
  "nbformat": 4,
  "nbformat_minor": 0,
  "metadata": {
    "colab": {
      "provenance": []
    },
    "kernelspec": {
      "name": "python3",
      "display_name": "Python 3"
    },
    "language_info": {
      "name": "python"
    }
  },
  "cells": [
    {
      "cell_type": "markdown",
      "source": [
        "## Install packages"
      ],
      "metadata": {
        "id": "6h3by9r0nZlU"
      }
    },
    {
      "cell_type": "code",
      "source": [
        "!pip install pyeasyga"
      ],
      "metadata": {
        "colab": {
          "base_uri": "https://localhost:8080/"
        },
        "id": "g5eTtbhTnZO-",
        "outputId": "32ce2cf3-6f5c-4b4e-de3c-1292ebc49361"
      },
      "execution_count": 1,
      "outputs": [
        {
          "output_type": "stream",
          "name": "stdout",
          "text": [
            "Collecting pyeasyga\n",
            "  Downloading pyeasyga-0.3.1.tar.gz (20 kB)\n",
            "  Preparing metadata (setup.py) ... \u001b[?25l\u001b[?25hdone\n",
            "Requirement already satisfied: six in /usr/local/lib/python3.10/dist-packages (from pyeasyga) (1.16.0)\n",
            "Building wheels for collected packages: pyeasyga\n",
            "  Building wheel for pyeasyga (setup.py) ... \u001b[?25l\u001b[?25hdone\n",
            "  Created wheel for pyeasyga: filename=pyeasyga-0.3.1-py2.py3-none-any.whl size=6785 sha256=6e45feb86ff2b53177b3d832309b2246b1471a9dfb08636340ade16445de0e8d\n",
            "  Stored in directory: /root/.cache/pip/wheels/a7/92/a5/adeab3fb04006374ec9a017fbb3a8139643ccfd6ad83a0c85f\n",
            "Successfully built pyeasyga\n",
            "Installing collected packages: pyeasyga\n",
            "Successfully installed pyeasyga-0.3.1\n"
          ]
        }
      ]
    },
    {
      "cell_type": "markdown",
      "source": [
        "## Import Packages"
      ],
      "metadata": {
        "id": "foi1qXT2nTgt"
      }
    },
    {
      "cell_type": "code",
      "source": [
        "import numpy as np\n",
        "import random as rd\n",
        "from pyeasyga import pyeasyga"
      ],
      "metadata": {
        "id": "5cV8Mh9bginy"
      },
      "execution_count": 2,
      "outputs": []
    },
    {
      "cell_type": "markdown",
      "source": [
        "## Define fitness function"
      ],
      "metadata": {
        "id": "EX129y_VoOmI"
      }
    },
    {
      "cell_type": "code",
      "source": [
        "def fitness_func(ind, data, time):\n",
        "    total_time = 0\n",
        "    total_reward = 0\n",
        "    for i, task in enumerate(ind):\n",
        "        if task == 1:\n",
        "            total_time += data[i][0]\n",
        "            total_reward += data[i][1]\n",
        "    return total_reward if total_time <= time else 0"
      ],
      "metadata": {
        "id": "-jomyG-MgwOl"
      },
      "execution_count": 3,
      "outputs": []
    },
    {
      "cell_type": "markdown",
      "source": [
        "## Define individuals function"
      ],
      "metadata": {
        "id": "FHY3DR4l2vwt"
      }
    },
    {
      "cell_type": "code",
      "source": [
        "def create_individual(data):\n",
        "    return [rd.randint(0, 1) for _ in range(num_tasks)]"
      ],
      "metadata": {
        "id": "uYruFXEr2vjV"
      },
      "execution_count": 4,
      "outputs": []
    },
    {
      "cell_type": "markdown",
      "source": [
        "## Inputs"
      ],
      "metadata": {
        "id": "-41XXEfcuNjZ"
      }
    },
    {
      "cell_type": "code",
      "source": [
        "input=np.array([[25,10],\n",
        "                [9,40],\n",
        "                [2,1],\n",
        "                [20,1],\n",
        "                [50,2],\n",
        "                [25,22],\n",
        "                [12,24],\n",
        "                [56,1],\n",
        "                [6,1],\n",
        "                [4,20],\n",
        "                [3,3]])"
      ],
      "metadata": {
        "id": "p1p2TS4AuM-E"
      },
      "execution_count": 10,
      "outputs": []
    },
    {
      "cell_type": "markdown",
      "source": [
        "## Define inputs"
      ],
      "metadata": {
        "id": "e7VqSM5oWdAo"
      }
    },
    {
      "cell_type": "code",
      "source": [
        "time=input[0][0]\n",
        "num_tasks=input[0][1]\n",
        "tasks=input[1:]"
      ],
      "metadata": {
        "id": "bdGSmN3CWc45"
      },
      "execution_count": 11,
      "outputs": []
    },
    {
      "cell_type": "markdown",
      "source": [
        "## Create instance for GA"
      ],
      "metadata": {
        "id": "cq6f_YmJwbls"
      }
    },
    {
      "cell_type": "code",
      "source": [
        "ga = pyeasyga.GeneticAlgorithm(None, population_size=50 ,generations=25)"
      ],
      "metadata": {
        "id": "EPxZeX24vxW7"
      },
      "execution_count": 12,
      "outputs": []
    },
    {
      "cell_type": "markdown",
      "source": [
        "## Assign function to GA instance"
      ],
      "metadata": {
        "id": "EVUifysfXiEw"
      }
    },
    {
      "cell_type": "code",
      "source": [
        "ga.fitness_function = lambda ind, _, data=tasks: fitness_func(ind, data, time)\n",
        "ga.create_individual = create_individual"
      ],
      "metadata": {
        "id": "FYrQLy9HzymN"
      },
      "execution_count": 13,
      "outputs": []
    },
    {
      "cell_type": "markdown",
      "source": [
        "## Run the GA"
      ],
      "metadata": {
        "id": "fD8gY_r-Xb9I"
      }
    },
    {
      "cell_type": "code",
      "source": [
        "best_solution = []\n",
        "best = []\n",
        "for i in range(5):\n",
        "  ga.run()\n",
        "  best = []\n",
        "  best_solution.append(ga.best_individual()[1])\n",
        "  best.append(ga.best_individual()[0])\n",
        "for i in range(len(best)):\n",
        "  if best[i] == max(best):\n",
        "    print(best_solution[i])\n",
        "    print(best[i])\n"
      ],
      "metadata": {
        "id": "LQ7MZOwKxahQ",
        "colab": {
          "base_uri": "https://localhost:8080/"
        },
        "outputId": "34796eae-ff32-4b9a-f69d-1912ad879e42"
      },
      "execution_count": 14,
      "outputs": [
        {
          "output_type": "stream",
          "name": "stdout",
          "text": [
            "[1, 1, 0, 0, 0, 1, 0, 0, 0, 0]\n",
            "84\n"
          ]
        }
      ]
    },
    {
      "cell_type": "code",
      "source": [],
      "metadata": {
        "id": "vvHEzJ9M6HPw"
      },
      "execution_count": 14,
      "outputs": []
    }
  ]
}